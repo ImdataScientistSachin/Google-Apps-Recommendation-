{
 "cells": [
  {
   "cell_type": "markdown",
   "id": "f3dbe400-f6b7-4451-bc03-dc09fd10c155",
   "metadata": {},
   "source": [
    "## Recommendation Systems: Build recommendation systems for users based on app features and ratings. ( org)"
   ]
  },
  {
   "cell_type": "markdown",
   "id": "b91563b2-74ec-41b3-8b51-3951bd178905",
   "metadata": {},
   "source": [
    "### Step - 1. Setup and Data Preparation"
   ]
  },
  {
   "cell_type": "code",
   "execution_count": null,
   "id": "4fe6f80e-5ba3-4ffb-ae92-d9821d1bb9f0",
   "metadata": {},
   "outputs": [],
   "source": [
    "\n",
    "\n",
    "\n"
   ]
  },
  {
   "cell_type": "code",
   "execution_count": 37,
   "id": "bc6d826b-96eb-4bb5-b287-877056ed0ef2",
   "metadata": {},
   "outputs": [],
   "source": [
    "# import the libraries\n",
    "\n",
    "import numpy as np\n",
    "import pandas as pd\n",
    "from sklearn.model_selection import train_test_split, GridSearchCV\n",
    "from sklearn.preprocessing import MinMaxScaler, OneHotEncoder\n",
    "from sklearn.feature_extraction.text import TfidfVectorizer\n",
    "from sklearn.impute import SimpleImputer\n",
    "from sklearn.ensemble import RandomForestRegressor\n",
    "from sklearn.metrics import mean_squared_error, mean_absolute_error, r2_score\n",
    "from scipy.sparse import hstack, csr_matrix\n",
    "from sklearn.metrics.pairwise import cosine_similarity\n",
    "import pickle\n",
    "import warnings\n",
    "warnings.filterwarnings(\"ignore\")"
   ]
  },
  {
   "cell_type": "code",
   "execution_count": 38,
   "id": "99818407-88ba-4ff9-a723-47e3c2f0acda",
   "metadata": {},
   "outputs": [
    {
     "name": "stdout",
     "output_type": "stream",
     "text": [
      "Original Dataset Shape: (10841, 13)\n",
      "                                                 App        Category  Rating  \\\n",
      "0     Photo Editor & Candy Camera & Grid & ScrapBook  ART_AND_DESIGN     4.1   \n",
      "1                                Coloring book moana  ART_AND_DESIGN     3.9   \n",
      "2  U Launcher Lite – FREE Live Cool Themes, Hide ...  ART_AND_DESIGN     4.7   \n",
      "3                              Sketch - Draw & Paint  ART_AND_DESIGN     4.5   \n",
      "4              Pixel Draw - Number Art Coloring Book  ART_AND_DESIGN     4.3   \n",
      "\n",
      "  Reviews  Size     Installs  Type Price Content Rating  \\\n",
      "0     159   19M      10,000+  Free     0       Everyone   \n",
      "1     967   14M     500,000+  Free     0       Everyone   \n",
      "2   87510  8.7M   5,000,000+  Free     0       Everyone   \n",
      "3  215644   25M  50,000,000+  Free     0           Teen   \n",
      "4     967  2.8M     100,000+  Free     0       Everyone   \n",
      "\n",
      "                      Genres Last Updated         Current Ver   Android Ver  \n",
      "0               Art & Design     7-Jan-18               1.0.0  4.0.3 and up  \n",
      "1  Art & Design;Pretend Play    15-Jan-18               2.0.0  4.0.3 and up  \n",
      "2               Art & Design     1-Aug-18               1.2.4  4.0.3 and up  \n",
      "3               Art & Design     8-Jun-18  Varies with device    4.2 and up  \n",
      "4    Art & Design;Creativity    20-Jun-18                 1.1    4.4 and up  \n"
     ]
    }
   ],
   "source": [
    "# 1. Data Loading and Initial Exploration\n",
    "\n",
    "dataset = pd.read_csv('googleplaystore.csv')\n",
    "print(\"Original Dataset Shape:\", dataset.shape)\n",
    "print(dataset.head())\n"
   ]
  },
  {
   "cell_type": "code",
   "execution_count": null,
   "id": "f03c80ef-0667-44c3-ba8b-68a4bd9db134",
   "metadata": {},
   "outputs": [],
   "source": []
  },
  {
   "cell_type": "markdown",
   "id": "556cbd99-4145-4c00-bbde-9584ff992fab",
   "metadata": {},
   "source": [
    "### Step - 2. Data Cleaning and Preprocessing"
   ]
  },
  {
   "cell_type": "code",
   "execution_count": 39,
   "id": "de38c02a-18f5-4c89-9df3-27d26d6bf5c6",
   "metadata": {},
   "outputs": [],
   "source": [
    "backup_dataset= dataset.copy()  # create a backup copy of dataset"
   ]
  },
  {
   "cell_type": "code",
   "execution_count": 40,
   "id": "06587747-e99d-434d-b160-16b0afa66d0a",
   "metadata": {
    "scrolled": true
   },
   "outputs": [
    {
     "name": "stdout",
     "output_type": "stream",
     "text": [
      "<class 'pandas.core.frame.DataFrame'>\n",
      "RangeIndex: 10841 entries, 0 to 10840\n",
      "Data columns (total 13 columns):\n",
      " #   Column          Non-Null Count  Dtype  \n",
      "---  ------          --------------  -----  \n",
      " 0   App             10841 non-null  object \n",
      " 1   Category        10841 non-null  object \n",
      " 2   Rating          9367 non-null   float64\n",
      " 3   Reviews         10841 non-null  object \n",
      " 4   Size            10841 non-null  object \n",
      " 5   Installs        10841 non-null  object \n",
      " 6   Type            10840 non-null  object \n",
      " 7   Price           10841 non-null  object \n",
      " 8   Content Rating  10840 non-null  object \n",
      " 9   Genres          10841 non-null  object \n",
      " 10  Last Updated    10841 non-null  object \n",
      " 11  Current Ver     10833 non-null  object \n",
      " 12  Android Ver     10838 non-null  object \n",
      "dtypes: float64(1), object(12)\n",
      "memory usage: 1.1+ MB\n"
     ]
    }
   ],
   "source": [
    "dataset.info()"
   ]
  },
  {
   "cell_type": "code",
   "execution_count": 41,
   "id": "9769ed97-676f-4b5b-a494-4a3cd71c802c",
   "metadata": {},
   "outputs": [
    {
     "data": {
      "text/plain": [
       "0             ART_AND_DESIGN\n",
       "1             ART_AND_DESIGN\n",
       "2             ART_AND_DESIGN\n",
       "3             ART_AND_DESIGN\n",
       "4             ART_AND_DESIGN\n",
       "                ...         \n",
       "10836                 FAMILY\n",
       "10837                 FAMILY\n",
       "10838                MEDICAL\n",
       "10839    BOOKS_AND_REFERENCE\n",
       "10840              LIFESTYLE\n",
       "Name: Category, Length: 10841, dtype: object"
      ]
     },
     "execution_count": 41,
     "metadata": {},
     "output_type": "execute_result"
    }
   ],
   "source": [
    "\n",
    "dataset['Category']\n"
   ]
  },
  {
   "cell_type": "code",
   "execution_count": 42,
   "id": "6a3bee13-ca28-49a6-bf28-b3d68f79f7d6",
   "metadata": {},
   "outputs": [],
   "source": [
    "# Convert 'Installs' to string first to handle potential non-string entries\n",
    "\n",
    "dataset['Installs'] = dataset['Installs'].astype(str).str.replace(r'[+,]', '', regex=True)"
   ]
  },
  {
   "cell_type": "code",
   "execution_count": 43,
   "id": "0fa9a5ff-a607-47b4-b428-40ae85ab7f50",
   "metadata": {},
   "outputs": [],
   "source": [
    "dataset = dataset[dataset['Installs'].str.isnumeric()]  # Keep only numeric values\n",
    "dataset['Installs'] = dataset['Installs'].astype(int)"
   ]
  },
  {
   "cell_type": "code",
   "execution_count": 44,
   "id": "8389f523-6b17-4615-8bff-f08c058e8898",
   "metadata": {},
   "outputs": [],
   "source": [
    "# Clean 'Price' column\n",
    "dataset['Price'] = dataset['Price'].str.replace('$', '', regex=False).astype(float)"
   ]
  },
  {
   "cell_type": "code",
   "execution_count": 45,
   "id": "3feb5d2c-366c-48bd-baa1-77e2acb99a64",
   "metadata": {},
   "outputs": [],
   "source": [
    "# Convert 'Last Updated' to datetime\n",
    "dataset['Last Updated'] = pd.to_datetime(dataset['Last Updated'])"
   ]
  },
  {
   "cell_type": "code",
   "execution_count": 46,
   "id": "1276e5d4-8cdc-4677-8f4a-847a2bb005f2",
   "metadata": {},
   "outputs": [],
   "source": [
    "# Convert 'Reviews' to numeric\n",
    "dataset['Reviews'] = pd.to_numeric(dataset['Reviews'], errors='coerce')"
   ]
  },
  {
   "cell_type": "code",
   "execution_count": 47,
   "id": "a80c3729-373d-4901-9655-f5bd0e39e609",
   "metadata": {},
   "outputs": [],
   "source": [
    "# Handle 'Size'\n",
    "\n",
    "def convert_size_to_mb(size):\n",
    "    if isinstance(size, str):\n",
    "        if 'M' in size:\n",
    "            return float(size.replace('M', ''))\n",
    "        elif 'k' in size:\n",
    "            return float(size.replace('k', '')) / 1024\n",
    "        elif 'Varies with device' in size:\n",
    "            return np.nan  # Or a suitable placeholder\n",
    "    return np.nan"
   ]
  },
  {
   "cell_type": "code",
   "execution_count": 48,
   "id": "b1a1d13c-157c-4511-a2d0-d7ebd30e5d85",
   "metadata": {},
   "outputs": [],
   "source": [
    "\n",
    "dataset['Size'] = dataset['Size'].apply(convert_size_to_mb)\n",
    "dataset['Size'] = pd.to_numeric(dataset['Size'], errors='coerce') # Handle any conversion errors"
   ]
  },
  {
   "cell_type": "code",
   "execution_count": 49,
   "id": "524734d9-7eb7-4803-868a-92f37ff2767d",
   "metadata": {},
   "outputs": [],
   "source": [
    "# Impute missing 'Size' values using median for each category\n",
    "\n",
    "dataset['Size'] = dataset.groupby('Category')['Size'].transform(lambda x: x.fillna(x.median()))"
   ]
  },
  {
   "cell_type": "code",
   "execution_count": 50,
   "id": "092f5c5a-e150-4316-b0b4-c2233dcb9f44",
   "metadata": {},
   "outputs": [],
   "source": [
    "# Outlier Handling (Reviews) - BEFORE SPLITTING\n",
    "\n",
    "Q1 = dataset['Reviews'].quantile(0.25)\n",
    "Q3 = dataset['Reviews'].quantile(0.75)\n",
    "IQR = Q3 - Q1\n",
    "lower_bound = Q1 - 1.5 * IQR\n",
    "upper_bound = Q3 + 1.5 * IQR\n",
    "dataset['Reviews'] = np.clip(dataset['Reviews'], lower_bound, upper_bound)"
   ]
  },
  {
   "cell_type": "code",
   "execution_count": null,
   "id": "6c36c22f-aa41-4726-9271-c650321e1bd1",
   "metadata": {},
   "outputs": [],
   "source": []
  },
  {
   "cell_type": "markdown",
   "id": "9a37cb2a-d277-4efc-a862-c2db7aabc9d8",
   "metadata": {},
   "source": [
    "### Step- 3. Feature Engineering"
   ]
  },
  {
   "cell_type": "code",
   "execution_count": 51,
   "id": "0f6dadc5-33c1-43db-b29c-9db53f41cb87",
   "metadata": {},
   "outputs": [],
   "source": [
    "# App Age (in days)\n",
    "dataset['App Age'] = (pd.to_datetime('2018-12-31') - dataset['Last Updated']).dt.days  # Assuming analysis date is end of 2018\n",
    "dataset['App Age'] = dataset['App Age'].fillna(dataset['App Age'].median()) #handle any missing values after calculation\n",
    "\n",
    "dataset['Features'] = dataset['Category'] + ' ' + dataset['Genres'] + ' ' + dataset['App']  #Includes App Name\n"
   ]
  },
  {
   "cell_type": "markdown",
   "id": "8adaeb67-bf38-4eaa-b722-de5915558b3e",
   "metadata": {},
   "source": [
    "#### Step - 4 Split Data (Crucially, *before* imputation and encoding)"
   ]
  },
  {
   "cell_type": "code",
   "execution_count": 52,
   "id": "28d9b254-4152-44b4-beac-cb428213408f",
   "metadata": {},
   "outputs": [],
   "source": [
    "# Remove rows with NaN in 'Rating' BEFORE the split\n",
    "dataset = dataset.dropna(subset=['Rating'])"
   ]
  },
  {
   "cell_type": "code",
   "execution_count": 53,
   "id": "18e89adf-8dc8-42b9-b1dd-34e5aae0e504",
   "metadata": {},
   "outputs": [],
   "source": [
    "# Split Data (Crucially, *before* imputation and encoding)\n",
    "\n",
    "X = dataset.drop('Rating', axis=1)\n",
    "y = dataset['Rating']\n"
   ]
  },
  {
   "cell_type": "code",
   "execution_count": 54,
   "id": "4ec51bb7-8dca-4d6a-b154-8bd822e4c6e5",
   "metadata": {},
   "outputs": [
    {
     "name": "stdout",
     "output_type": "stream",
     "text": [
      "Training set shape: (7492, 14)\n",
      "Testing set shape: (1874, 14)\n"
     ]
    }
   ],
   "source": [
    "X_train, X_test, y_train, y_test = train_test_split(X, y, test_size=0.2, random_state=42)\n",
    "\n",
    "print(\"Training set shape:\", X_train.shape)\n",
    "print(\"Testing set shape:\", X_test.shape)"
   ]
  },
  {
   "cell_type": "markdown",
   "id": "312afc2a-77fa-4360-a275-177348e38909",
   "metadata": {},
   "source": [
    "### step - 5. Define Numerical and Categorical Features (AFTER SPLIT)"
   ]
  },
  {
   "cell_type": "code",
   "execution_count": 55,
   "id": "f1bacd4f-56b6-4fbe-86d4-1564489669bf",
   "metadata": {},
   "outputs": [],
   "source": [
    "\n",
    "\n",
    "numerical_features = ['Reviews', 'Size', 'Installs', 'Price', 'App Age']\n",
    "categorical_features = ['Type', 'Content Rating']"
   ]
  },
  {
   "cell_type": "markdown",
   "id": "ab061e38-b2a3-4988-9636-25813e8e3faa",
   "metadata": {},
   "source": [
    "#### Step - 6. Imputation (AFTER SPLIT)"
   ]
  },
  {
   "cell_type": "code",
   "execution_count": 56,
   "id": "31cbcdd4-08e5-417a-889d-eeeb015124fe",
   "metadata": {},
   "outputs": [
    {
     "name": "stdout",
     "output_type": "stream",
     "text": [
      "Starting Imputation...\n",
      "SimpleImputer created.\n",
      "Starting imputation loop...\n"
     ]
    }
   ],
   "source": [
    "print(\"Starting Imputation...\")\n",
    "\n",
    "imputer_numerical = SimpleImputer(strategy='median')\n",
    "# Use median for robustness\n",
    "print(\"SimpleImputer created.\")\n",
    "\n",
    "# Impute missing values separately for each column\n",
    "print(\"Starting imputation loop...\")"
   ]
  },
  {
   "cell_type": "code",
   "execution_count": 57,
   "id": "663f9b1f-0d91-458a-b0bc-fd9db3c07969",
   "metadata": {},
   "outputs": [
    {
     "name": "stdout",
     "output_type": "stream",
     "text": [
      "Imputing column: Reviews\n",
      "Column Reviews imputed.\n",
      "Imputing column: Size\n",
      "Column Size imputed.\n",
      "Imputing column: Installs\n",
      "Column Installs imputed.\n",
      "Imputing column: Price\n",
      "Column Price imputed.\n",
      "Imputing column: App Age\n",
      "Column App Age imputed.\n",
      "Imputation complete.\n"
     ]
    }
   ],
   "source": [
    "# Impute missing values separately for each column\n",
    "\n",
    "for col in numerical_features:\n",
    "    print(f\"Imputing column: {col}\")\n",
    "    X_train[col] = X_train[[col]].fillna(X_train[[col]].median())\n",
    "    X_test[col] = X_test[[col]].fillna(X_test[[col]].median())\n",
    "    print(f\"Column {col} imputed.\")\n",
    "print(\"Imputation complete.\")"
   ]
  },
  {
   "cell_type": "markdown",
   "id": "d074975f-52f6-4703-bea9-685204233eca",
   "metadata": {},
   "source": [
    "#### step -  7. Scaling (AFTER IMPUTATION)"
   ]
  },
  {
   "cell_type": "code",
   "execution_count": 58,
   "id": "40c4209a-ea23-4a27-a8c5-2b6c70d04483",
   "metadata": {},
   "outputs": [],
   "source": [
    "\n",
    "\n",
    "scaler = MinMaxScaler()\n",
    "numerical_scaled_train = scaler.fit_transform(X_train[numerical_features])\n",
    "numerical_scaled_test = scaler.transform(X_test[numerical_features])"
   ]
  },
  {
   "cell_type": "markdown",
   "id": "a2d0b947-5ce7-40d3-ad1d-cd3aa8be9e56",
   "metadata": {},
   "source": [
    "#### Step - 8. Encoding (AFTER SPLIT)"
   ]
  },
  {
   "cell_type": "code",
   "execution_count": 59,
   "id": "f012ee10-d02f-446c-92bc-d2e23b8d3392",
   "metadata": {},
   "outputs": [],
   "source": [
    "encoder = OneHotEncoder(handle_unknown='ignore')\n",
    "encoded_data_train = encoder.fit_transform(X_train[categorical_features])\n",
    "encoded_data_test = encoder.transform(X_test[categorical_features])"
   ]
  },
  {
   "cell_type": "code",
   "execution_count": 60,
   "id": "fe34e17e-0a1e-47f7-a349-2a5b62cba9ad",
   "metadata": {},
   "outputs": [],
   "source": [
    "# Export the file for further use \n",
    "\n",
    "# dataset.to_csv('sorted_dataset.csv', index=False)"
   ]
  },
  {
   "cell_type": "code",
   "execution_count": 61,
   "id": "1a0de4d4-af7a-4eea-b8d8-4162bbb9d723",
   "metadata": {},
   "outputs": [
    {
     "data": {
      "text/html": [
       "<div>\n",
       "<style scoped>\n",
       "    .dataframe tbody tr th:only-of-type {\n",
       "        vertical-align: middle;\n",
       "    }\n",
       "\n",
       "    .dataframe tbody tr th {\n",
       "        vertical-align: top;\n",
       "    }\n",
       "\n",
       "    .dataframe thead th {\n",
       "        text-align: right;\n",
       "    }\n",
       "</style>\n",
       "<table border=\"1\" class=\"dataframe\">\n",
       "  <thead>\n",
       "    <tr style=\"text-align: right;\">\n",
       "      <th></th>\n",
       "      <th>App</th>\n",
       "      <th>Category</th>\n",
       "      <th>Rating</th>\n",
       "      <th>Reviews</th>\n",
       "      <th>Size</th>\n",
       "      <th>Installs</th>\n",
       "      <th>Type</th>\n",
       "      <th>Price</th>\n",
       "      <th>Content Rating</th>\n",
       "      <th>Genres</th>\n",
       "      <th>Last Updated</th>\n",
       "      <th>Current Ver</th>\n",
       "      <th>Android Ver</th>\n",
       "      <th>App Age</th>\n",
       "      <th>Features</th>\n",
       "    </tr>\n",
       "  </thead>\n",
       "  <tbody>\n",
       "    <tr>\n",
       "      <th>0</th>\n",
       "      <td>Photo Editor &amp; Candy Camera &amp; Grid &amp; ScrapBook</td>\n",
       "      <td>ART_AND_DESIGN</td>\n",
       "      <td>4.1</td>\n",
       "      <td>159.00</td>\n",
       "      <td>19.0</td>\n",
       "      <td>10000</td>\n",
       "      <td>Free</td>\n",
       "      <td>0.0</td>\n",
       "      <td>Everyone</td>\n",
       "      <td>Art &amp; Design</td>\n",
       "      <td>2018-01-07</td>\n",
       "      <td>1.0.0</td>\n",
       "      <td>4.0.3 and up</td>\n",
       "      <td>358</td>\n",
       "      <td>ART_AND_DESIGN Art &amp; Design Photo Editor &amp; Can...</td>\n",
       "    </tr>\n",
       "    <tr>\n",
       "      <th>1</th>\n",
       "      <td>Coloring book moana</td>\n",
       "      <td>ART_AND_DESIGN</td>\n",
       "      <td>3.9</td>\n",
       "      <td>967.00</td>\n",
       "      <td>14.0</td>\n",
       "      <td>500000</td>\n",
       "      <td>Free</td>\n",
       "      <td>0.0</td>\n",
       "      <td>Everyone</td>\n",
       "      <td>Art &amp; Design;Pretend Play</td>\n",
       "      <td>2018-01-15</td>\n",
       "      <td>2.0.0</td>\n",
       "      <td>4.0.3 and up</td>\n",
       "      <td>350</td>\n",
       "      <td>ART_AND_DESIGN Art &amp; Design;Pretend Play Color...</td>\n",
       "    </tr>\n",
       "    <tr>\n",
       "      <th>2</th>\n",
       "      <td>U Launcher Lite – FREE Live Cool Themes, Hide ...</td>\n",
       "      <td>ART_AND_DESIGN</td>\n",
       "      <td>4.7</td>\n",
       "      <td>87510.00</td>\n",
       "      <td>8.7</td>\n",
       "      <td>5000000</td>\n",
       "      <td>Free</td>\n",
       "      <td>0.0</td>\n",
       "      <td>Everyone</td>\n",
       "      <td>Art &amp; Design</td>\n",
       "      <td>2018-08-01</td>\n",
       "      <td>1.2.4</td>\n",
       "      <td>4.0.3 and up</td>\n",
       "      <td>152</td>\n",
       "      <td>ART_AND_DESIGN Art &amp; Design U Launcher Lite – ...</td>\n",
       "    </tr>\n",
       "    <tr>\n",
       "      <th>3</th>\n",
       "      <td>Sketch - Draw &amp; Paint</td>\n",
       "      <td>ART_AND_DESIGN</td>\n",
       "      <td>4.5</td>\n",
       "      <td>136881.75</td>\n",
       "      <td>25.0</td>\n",
       "      <td>50000000</td>\n",
       "      <td>Free</td>\n",
       "      <td>0.0</td>\n",
       "      <td>Teen</td>\n",
       "      <td>Art &amp; Design</td>\n",
       "      <td>2018-06-08</td>\n",
       "      <td>Varies with device</td>\n",
       "      <td>4.2 and up</td>\n",
       "      <td>206</td>\n",
       "      <td>ART_AND_DESIGN Art &amp; Design Sketch - Draw &amp; Paint</td>\n",
       "    </tr>\n",
       "    <tr>\n",
       "      <th>4</th>\n",
       "      <td>Pixel Draw - Number Art Coloring Book</td>\n",
       "      <td>ART_AND_DESIGN</td>\n",
       "      <td>4.3</td>\n",
       "      <td>967.00</td>\n",
       "      <td>2.8</td>\n",
       "      <td>100000</td>\n",
       "      <td>Free</td>\n",
       "      <td>0.0</td>\n",
       "      <td>Everyone</td>\n",
       "      <td>Art &amp; Design;Creativity</td>\n",
       "      <td>2018-06-20</td>\n",
       "      <td>1.1</td>\n",
       "      <td>4.4 and up</td>\n",
       "      <td>194</td>\n",
       "      <td>ART_AND_DESIGN Art &amp; Design;Creativity Pixel D...</td>\n",
       "    </tr>\n",
       "  </tbody>\n",
       "</table>\n",
       "</div>"
      ],
      "text/plain": [
       "                                                 App        Category  Rating  \\\n",
       "0     Photo Editor & Candy Camera & Grid & ScrapBook  ART_AND_DESIGN     4.1   \n",
       "1                                Coloring book moana  ART_AND_DESIGN     3.9   \n",
       "2  U Launcher Lite – FREE Live Cool Themes, Hide ...  ART_AND_DESIGN     4.7   \n",
       "3                              Sketch - Draw & Paint  ART_AND_DESIGN     4.5   \n",
       "4              Pixel Draw - Number Art Coloring Book  ART_AND_DESIGN     4.3   \n",
       "\n",
       "     Reviews  Size  Installs  Type  Price Content Rating  \\\n",
       "0     159.00  19.0     10000  Free    0.0       Everyone   \n",
       "1     967.00  14.0    500000  Free    0.0       Everyone   \n",
       "2   87510.00   8.7   5000000  Free    0.0       Everyone   \n",
       "3  136881.75  25.0  50000000  Free    0.0           Teen   \n",
       "4     967.00   2.8    100000  Free    0.0       Everyone   \n",
       "\n",
       "                      Genres Last Updated         Current Ver   Android Ver  \\\n",
       "0               Art & Design   2018-01-07               1.0.0  4.0.3 and up   \n",
       "1  Art & Design;Pretend Play   2018-01-15               2.0.0  4.0.3 and up   \n",
       "2               Art & Design   2018-08-01               1.2.4  4.0.3 and up   \n",
       "3               Art & Design   2018-06-08  Varies with device    4.2 and up   \n",
       "4    Art & Design;Creativity   2018-06-20                 1.1    4.4 and up   \n",
       "\n",
       "   App Age                                           Features  \n",
       "0      358  ART_AND_DESIGN Art & Design Photo Editor & Can...  \n",
       "1      350  ART_AND_DESIGN Art & Design;Pretend Play Color...  \n",
       "2      152  ART_AND_DESIGN Art & Design U Launcher Lite – ...  \n",
       "3      206  ART_AND_DESIGN Art & Design Sketch - Draw & Paint  \n",
       "4      194  ART_AND_DESIGN Art & Design;Creativity Pixel D...  "
      ]
     },
     "execution_count": 61,
     "metadata": {},
     "output_type": "execute_result"
    }
   ],
   "source": [
    "dataset.head()"
   ]
  },
  {
   "cell_type": "code",
   "execution_count": null,
   "id": "1ce46b74-bf44-4159-8ba0-e075ab5b02fa",
   "metadata": {},
   "outputs": [],
   "source": []
  },
  {
   "cell_type": "markdown",
   "id": "606ccc12-049e-4b8a-9727-527f2b9b67b9",
   "metadata": {},
   "source": [
    "### step - 9. TF-IDF Vectorization:"
   ]
  },
  {
   "cell_type": "code",
   "execution_count": 62,
   "id": "73339ed2-de22-4994-a32a-b3e5ecff5e6e",
   "metadata": {},
   "outputs": [],
   "source": [
    "# --- TF-IDF Vectorization ---\n",
    "\n",
    "tfidf_vectorizer = TfidfVectorizer(stop_words='english', ngram_range=(1, 1), max_features=1000) # reduced ngram_range, added max_features\n",
    "tfidf_matrix_train = tfidf_vectorizer.fit_transform(X_train['Features']).toarray()\n",
    "tfidf_matrix_test = tfidf_vectorizer.transform(X_test['Features']).toarray()"
   ]
  },
  {
   "cell_type": "markdown",
   "id": "e8cbcf20-9001-4667-b9ca-4cd180488229",
   "metadata": {},
   "source": [
    "##### Explanation:\n",
    "\n",
    "  ##### TfidfVectorizer: This converts the text in the \"Features\" column into a numerical representation that machine learning models can understand. TF-IDF (Term Frequency-Inverse Document Frequency) weighs words based on their importance within each app's description and across the entire dataset.\n",
    "\n",
    "##### stop_words='english': This removes common English words (like \"the\", \"a\", \"is\") that don't contribute much to the meaning and can clutter the analysis.\n",
    "\n",
    "##### tfidf_matrix.shape: The output will show you the dimensions of the matrix. "
   ]
  },
  {
   "cell_type": "markdown",
   "id": "dbbb7d8f-2c0a-408d-9dfc-6c2a2e94ce4e",
   "metadata": {},
   "source": [
    "### Step -10. Sparse Matrix Conversion"
   ]
  },
  {
   "cell_type": "code",
   "execution_count": 64,
   "id": "1644acf0-9787-4ed0-84a7-d7a771315918",
   "metadata": {},
   "outputs": [
    {
     "data": {
      "text/plain": [
       "0"
      ]
     },
     "execution_count": 64,
     "metadata": {},
     "output_type": "execute_result"
    }
   ],
   "source": [
    "import gc  # Import garbage collection\n",
    "\n",
    "numerical_scaled_train_sparse = csr_matrix(numerical_scaled_train, dtype=np.float32)  # Added dtype\n",
    "gc.collect()\n",
    "numerical_scaled_test_sparse = csr_matrix(numerical_scaled_test, dtype=np.float32) # Added dtype\n",
    "gc.collect()\n",
    "encoded_data_train_sparse = csr_matrix(encoded_data_train, dtype=np.float32) # Added dtype\n",
    "gc.collect()\n",
    "encoded_data_test_sparse = csr_matrix(encoded_data_test, dtype=np.float32) # Added dtype\n",
    "gc.collect()"
   ]
  },
  {
   "cell_type": "markdown",
   "id": "e3d673dc-c54e-44db-ad91-ce091508e22e",
   "metadata": {},
   "source": [
    "#### Step - 11 Feature Combination (Sparse)"
   ]
  },
  {
   "cell_type": "code",
   "execution_count": 65,
   "id": "79c81a2f-11a4-463a-9983-f8c7f509f72c",
   "metadata": {},
   "outputs": [
    {
     "name": "stdout",
     "output_type": "stream",
     "text": [
      "Combined features (train) shape: (7492, 1013)\n",
      "Combined features (test) shape: (1874, 1013)\n"
     ]
    }
   ],
   "source": [
    "combined_features_train = hstack([tfidf_matrix_train, numerical_scaled_train_sparse, encoded_data_train_sparse])\n",
    "combined_features_test = hstack([tfidf_matrix_test, numerical_scaled_test_sparse, encoded_data_test_sparse])\n",
    "\n",
    "print(\"Combined features (train) shape:\", combined_features_train.shape)\n",
    "print(\"Combined features (test) shape:\", combined_features_test.shape)"
   ]
  },
  {
   "cell_type": "code",
   "execution_count": null,
   "id": "1e5bbe70-5d29-4d7d-a596-50bfc1e6ac89",
   "metadata": {},
   "outputs": [],
   "source": []
  },
  {
   "cell_type": "markdown",
   "id": "cbffecb6-78ef-4a6a-b3ab-9ce2e36a499a",
   "metadata": {},
   "source": [
    "###  Step - 12 - Prepare model - HYPERPARAMETER TUNING"
   ]
  },
  {
   "cell_type": "code",
   "execution_count": 66,
   "id": "b7a7f764-cbad-460d-9f29-8249a7ab792e",
   "metadata": {},
   "outputs": [],
   "source": [
    "\n",
    "param_grid = {\n",
    "    'n_estimators': [100, 200], # Reduce n_estimators\n",
    "    'max_depth': [None, 10], #Reduce max_depth\n",
    "    'min_samples_split': [2, 5],\n",
    "    'min_samples_leaf': [1, 2]\n",
    "}\n"
   ]
  },
  {
   "cell_type": "code",
   "execution_count": 67,
   "id": "252c1244-d86d-43b8-b1fa-abc4c373b5b4",
   "metadata": {},
   "outputs": [],
   "source": [
    "# Step -13 - train the model (USING BEST MODEL)\n",
    "\n",
    "grid_search = GridSearchCV(estimator=RandomForestRegressor(random_state=42),\n",
    "                           param_grid=param_grid,\n",
    "                           cv=3,  # 3-fold cross-validation\n",
    "                           scoring='neg_mean_squared_error',  # or 'r2'\n",
    "                           verbose=2,\n",
    "                           n_jobs=-1)  "
   ]
  },
  {
   "cell_type": "code",
   "execution_count": 68,
   "id": "b1457a89-cc7e-4a01-8f3d-abb91ca398df",
   "metadata": {},
   "outputs": [
    {
     "name": "stdout",
     "output_type": "stream",
     "text": [
      "Fitting 3 folds for each of 16 candidates, totalling 48 fits\n"
     ]
    }
   ],
   "source": [
    "# Use all available cores\n",
    "\n",
    "grid_search.fit(combined_features_train, y_train)\n",
    "\n",
    "best_model = grid_search.best_estimator_  # Use the best model"
   ]
  },
  {
   "cell_type": "code",
   "execution_count": 69,
   "id": "51ba78a2-dec0-4fcd-8a44-0ced8ce24388",
   "metadata": {},
   "outputs": [],
   "source": [
    "# Step -13 - train the model (USING BEST MODEL)\n",
    "# best_model.fit(combined_features_train, y_train) \n",
    "# No need to fit again, GridSearchCV already did"
   ]
  },
  {
   "cell_type": "code",
   "execution_count": null,
   "id": "f985a34b-abbe-4267-8efd-cd2d953e2ceb",
   "metadata": {},
   "outputs": [],
   "source": []
  },
  {
   "cell_type": "markdown",
   "id": "be584dc9-892c-4dce-842a-9a1b005fc4de",
   "metadata": {},
   "source": [
    "### Step - 14 # --- Make Predictions ---"
   ]
  },
  {
   "cell_type": "code",
   "execution_count": 70,
   "id": "6fcba92e-78a7-4b2b-b965-87c834b5456a",
   "metadata": {},
   "outputs": [],
   "source": [
    "y_pred = best_model.predict(combined_features_test)"
   ]
  },
  {
   "cell_type": "markdown",
   "id": "0a2c8493-4e06-45ac-915d-b2074c2d07d3",
   "metadata": {},
   "source": [
    "### Step - 15. Evaluation"
   ]
  },
  {
   "cell_type": "code",
   "execution_count": 81,
   "id": "36be13eb-6b61-48f3-82aa-b6c822dae5e4",
   "metadata": {},
   "outputs": [
    {
     "name": "stdout",
     "output_type": "stream",
     "text": [
      "Mean Squared Error: 0.1979\n",
      "Mean Absolute Error: 0.2947\n",
      "R-squared: 0.1971\n"
     ]
    }
   ],
   "source": [
    "# --- Evaluate the Model ---\n",
    "\n",
    "mse = mean_squared_error(y_test, y_pred)\n",
    "mae = mean_absolute_error(y_test, y_pred)\n",
    "r2 = r2_score(y_test, y_pred)\n",
    "\n",
    "print(f\"Mean Squared Error: {mse:.4f}\")\n",
    "print(f\"Mean Absolute Error: {mae:.4f}\")\n",
    "print(f\"R-squared: {r2:.4f}\")"
   ]
  },
  {
   "cell_type": "code",
   "execution_count": null,
   "id": "71595461-508e-4bb0-b06a-2a7a7b896173",
   "metadata": {},
   "outputs": [],
   "source": []
  },
  {
   "cell_type": "markdown",
   "id": "648fcba4-1a3c-434e-9967-e80f204f5003",
   "metadata": {},
   "source": [
    "#### Step -16. Recommendation Function"
   ]
  },
  {
   "cell_type": "code",
   "execution_count": 82,
   "id": "9f9e7f66-1f66-492d-a469-a3262bed648c",
   "metadata": {},
   "outputs": [],
   "source": [
    "def recommend_apps(app_name, num_recommendations=5):\n",
    "    \"\"\"\n",
    "    Recommends similar apps based on feature similarity using the trained model.\n",
    "    \"\"\"\n",
    "    try:\n",
    "        # Get the features of the target app\n",
    "        #app_index = X[X['App'] == app_name].index[0]\n",
    "\n",
    "        # Find the app in the *original* dataframe\n",
    "        app_data = dataset[dataset['App'] == app_name].iloc[0].to_frame().T # Get the row of the given app, from the parent dataset\n",
    "        app_data = app_data.drop('Rating', axis=1) # Remove Rating from this entry for processing.\n",
    "\n",
    "        # Impute and encode features\n",
    "        for col in numerical_features: #Impute numerical features\n",
    "            app_data[col] = app_data[col].fillna(X_train[col].median())\n",
    "        numerical_scaled_app = scaler.transform(app_data[numerical_features]) #Scale numerical features\n",
    "        encoded_data_app = encoder.transform(app_data[categorical_features]) #Encode categorical features\n",
    "        tfidf_matrix_app = tfidf_vectorizer.transform(app_data['Features']) #Create the TFIDF matrix\n",
    "\n",
    "        #Ensure matrixes are sparse\n",
    "        numerical_scaled_app_sparse = csr_matrix(numerical_scaled_app)\n",
    "        encoded_data_app_sparse = csr_matrix(encoded_data_app)\n",
    "        combined_features_app = hstack([tfidf_matrix_app, numerical_scaled_app_sparse, encoded_data_app_sparse])\n",
    "\n",
    "        # Make Prediction\n",
    "        predicted_rating = best_model.predict(combined_features_app)[0]\n",
    "        print(f\"Predicted rating for the app: {predicted_rating:.2f}\")\n",
    "\n",
    "        #Compute Similarity\n",
    "        similarity_scores = cosine_similarity(combined_features_app, combined_features_train)\n",
    "        similar_app_indices = similarity_scores.argsort()[0][-(num_recommendations + 1):-1][::-1]\n",
    "\n",
    "        # Print Results\n",
    "        recommended_apps = X_train.iloc[similar_app_indices]['App'].values\n",
    "        print(f\"Recommended apps similar to {app_name}:\")\n",
    "        for app in recommended_apps:\n",
    "            print(app)\n",
    "\n",
    "    except IndexError:\n",
    "        print(f\"App '{app_name}' not found in the dataset.\")\n",
    "    except Exception as e:\n",
    "        print(f\"An error occurred: {e}\")\n"
   ]
  },
  {
   "cell_type": "markdown",
   "id": "c7a4781c-8354-47eb-88bf-bad9f44d9b44",
   "metadata": {},
   "source": [
    "#### step 17 - Example usage:\n"
   ]
  },
  {
   "cell_type": "code",
   "execution_count": 86,
   "id": "93e429cd-ac6a-4ed8-8287-06f198c21700",
   "metadata": {},
   "outputs": [
    {
     "name": "stdout",
     "output_type": "stream",
     "text": [
      "Predicted rating for the app: 4.46\n",
      "Recommended apps similar to ibis Paint X:\n",
      "FlipaClip - Cartoon animation\n",
      "Textgram - write on photos\n",
      "Textgram - write on photos\n",
      "Infinite Painter\n",
      "SketchBook - draw and paint\n"
     ]
    }
   ],
   "source": [
    "recommend_apps('ibis Paint X', num_recommendations=5)"
   ]
  },
  {
   "cell_type": "code",
   "execution_count": null,
   "id": "fdfae579-235c-4b49-995a-7b52db2675e6",
   "metadata": {},
   "outputs": [],
   "source": []
  },
  {
   "cell_type": "markdown",
   "id": "48879e97-eee3-46d6-8d6f-55b708871547",
   "metadata": {},
   "source": [
    "### step 18 - Save model AND preprocessing objects into file\n"
   ]
  },
  {
   "cell_type": "code",
   "execution_count": 88,
   "id": "3a83ed75-ff81-4d49-9e10-35f78b2b96a6",
   "metadata": {},
   "outputs": [
    {
     "name": "stdout",
     "output_type": "stream",
     "text": [
      "Model and components saved successfully\n"
     ]
    }
   ],
   "source": [
    "# Step 18 - Save model AND preprocessing objects into file (Updates)\n",
    "model_data = {\n",
    "    'model': best_model,\n",
    "    'scaler': scaler,\n",
    "    'encoder': encoder,\n",
    "    'tfidf_vectorizer': tfidf_vectorizer,\n",
    "    'numerical_features': numerical_features,  # List of numerical features\n",
    "    'categorical_features': categorical_features,  # List of categorical features\n",
    "    'apps_list': X_train['App'].tolist()  # List of app names\n",
    "}\n",
    "\n",
    "with open('app_recommender_model.pkl', 'wb') as file:\n",
    "    pickle.dump(model_data, file)\n",
    "\n",
    "print(\"Model and components saved successfully\")\n"
   ]
  },
  {
   "cell_type": "code",
   "execution_count": null,
   "id": "517376b6-3a47-4f28-a799-d2b6529e381d",
   "metadata": {},
   "outputs": [],
   "source": [
    "\n"
   ]
  },
  {
   "cell_type": "code",
   "execution_count": null,
   "id": "c28d2e4c-bd3d-420b-bf27-746743196ff2",
   "metadata": {},
   "outputs": [],
   "source": []
  },
  {
   "cell_type": "code",
   "execution_count": null,
   "id": "58a7c316-8cca-49f9-966f-c9d149e005cc",
   "metadata": {},
   "outputs": [],
   "source": []
  }
 ],
 "metadata": {
  "kernelspec": {
   "display_name": "Python 3 (ipykernel)",
   "language": "python",
   "name": "python3"
  },
  "language_info": {
   "codemirror_mode": {
    "name": "ipython",
    "version": 3
   },
   "file_extension": ".py",
   "mimetype": "text/x-python",
   "name": "python",
   "nbconvert_exporter": "python",
   "pygments_lexer": "ipython3",
   "version": "3.10.8"
  }
 },
 "nbformat": 4,
 "nbformat_minor": 5
}
